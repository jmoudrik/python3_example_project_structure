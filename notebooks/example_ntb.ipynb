{
 "cells": [
  {
   "cell_type": "code",
   "execution_count": 6,
   "id": "a50885bb",
   "metadata": {},
   "outputs": [],
   "source": [
    "from context import mylib"
   ]
  },
  {
   "cell_type": "code",
   "execution_count": 7,
   "id": "775bb14b",
   "metadata": {},
   "outputs": [
    {
     "name": "stdout",
     "output_type": "stream",
     "text": [
      "==========\n",
      "= AHOJ!! =\n",
      "==========\n"
     ]
    }
   ],
   "source": [
    "mylib.boxed(\"AHOJ!!\")"
   ]
  },
  {
   "cell_type": "code",
   "execution_count": null,
   "id": "e853d156",
   "metadata": {},
   "outputs": [],
   "source": []
  }
 ],
 "metadata": {
  "kernelspec": {
   "display_name": "Python 3 (ipykernel)",
   "language": "python",
   "name": "python3"
  },
  "language_info": {
   "codemirror_mode": {
    "name": "ipython",
    "version": 3
   },
   "file_extension": ".py",
   "mimetype": "text/x-python",
   "name": "python",
   "nbconvert_exporter": "python",
   "pygments_lexer": "ipython3",
   "version": "3.10.4"
  }
 },
 "nbformat": 4,
 "nbformat_minor": 5
}
